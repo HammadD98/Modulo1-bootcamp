{
  "nbformat": 4,
  "nbformat_minor": 0,
  "metadata": {
    "interpreter": {
      "hash": "26ec3ce3b000f23c64fdb871fd7c45c9c107d33937bd8f171a15179c75f1fe76"
    },
    "kernelspec": {
      "display_name": "Python 3.8.2 32-bit",
      "language": "python",
      "name": "python3"
    },
    "language_info": {
      "codemirror_mode": {
        "name": "ipython",
        "version": 3
      },
      "file_extension": ".py",
      "mimetype": "text/x-python",
      "name": "python",
      "nbconvert_exporter": "python",
      "pygments_lexer": "ipython3",
      "version": "3.8.2"
    },
    "orig_nbformat": 4,
    "colab": {
      "name": "Esboco_projeto_1.ipynb",
      "provenance": [],
      "include_colab_link": true
    }
  },
  "cells": [
    {
      "cell_type": "markdown",
      "metadata": {
        "id": "view-in-github",
        "colab_type": "text"
      },
      "source": [
        "<a href=\"https://colab.research.google.com/github/HammadD98/Modulo1-bootcamp/blob/main/Notebooks/Esboco_projeto_1.ipynb\" target=\"_parent\"><img src=\"https://colab.research.google.com/assets/colab-badge.svg\" alt=\"Open In Colab\"/></a>"
      ]
    },
    {
      "cell_type": "markdown",
      "metadata": {
        "id": "68uflUu_LuFF"
      },
      "source": [
        "# PROJETO 1 - BOOTCAMP ALURA DE DADOS\n",
        "\n",
        "<br>Casos de aids identificados no Brasil\n",
        "<br>Freqüência por Ano Notificação segundo UF Notificação\n",
        "<br>Período: 1980,1982-2020\n",
        "<br>link = http://www2.aids.gov.br/cgi/tabcgi.exe?tabnet/br.def"
      ]
    },
    {
      "cell_type": "markdown",
      "metadata": {
        "id": "Uhg7mDcSLuFK"
      },
      "source": [
        "## A analise dos dados tem como obejtivos:\n",
        "     - Analisar a quantidade de notificações por esatdos e regiões. \n",
        "     - E destas analises fazer comparações inter-regionais e intraregionais.\n",
        "     - Analisar o fluxo das notificações ao longo do tempo, bem como a cada 10 anos.\n",
        "\n"
      ]
    },
    {
      "cell_type": "markdown",
      "metadata": {
        "id": "Jw-6pNhpLuFL"
      },
      "source": [
        "Etapas:<br>\n",
        "&emsp;1 - Pre análise<br>\n",
        "&emsp;&emsp; 1.1 Importações das bibliotecas<br>\n",
        "&emsp;&emsp; 1.2 Leitura dos dados<br>\n",
        "\n",
        "&emsp; 2 - Analise inicial<br>\n",
        "&emsp;&emsp; 2.1 Analises exploratorias<br>\n",
        "&emsp;&emsp; 2.2 Tratamentos <br>\n",
        "\n",
        "&emsp; 3 - Evoluções <br>\n",
        "&emsp;&emsp; 3.1 - Evolução geral<br>\n",
        "&emsp;&emsp; 3.2 - Evolução por região <br>\n",
        "&emsp;&emsp; 3.3 - Evolução do estado mais populoso de cada região <br>\n",
        "&emsp;&emsp; 3.4 - Evolução a cada 10 anos<br>\n",
        "\n",
        "&emsp; 4 - Comparativos <br>\n",
        "&emsp;&emsp; 4.1 - Comparação entre-regioes<br>\n",
        "&emsp;&emsp; 4.2 - Comparação intraregiões <br>\n",
        "\n",
        "&emsp; 5 - Conclusões <br>\n",
        "\n",
        "&emsp; 4 - Trabalhos futuros <br>\n"
      ]
    },
    {
      "cell_type": "markdown",
      "metadata": {
        "id": "6cKO8cVPLuFL"
      },
      "source": [
        "### 1 - Pre análise"
      ]
    },
    {
      "cell_type": "markdown",
      "metadata": {
        "id": "iRAE5ajiLuFM"
      },
      "source": [
        "#### 1.1 - Importações"
      ]
    },
    {
      "cell_type": "code",
      "metadata": {
        "id": "2mrWPDTZLuFM"
      },
      "source": [
        "import pandas as pd\n",
        "import numpy as np\n",
        "import matplotlib.pyplot as plt\n"
      ],
      "execution_count": 1,
      "outputs": []
    },
    {
      "cell_type": "markdown",
      "metadata": {
        "id": "qDO1mOSSLuFO"
      },
      "source": [
        "#### 1.2 - Leitura dos dados"
      ]
    },
    {
      "cell_type": "code",
      "metadata": {
        "colab": {
          "base_uri": "https://localhost:8080/",
          "height": 306
        },
        "id": "YNJTh1nlLuFP",
        "outputId": "feef5277-c91c-4a58-847e-c123b7f32acd"
      },
      "source": [
        "dados = pd.read_csv(\"C:\\\\Users\\\\Hammad\\\\Desktop\\\\BootCamp\\\\projeto_1\\\\1_Projeto.csv\", encoding=\"ISO-8859-1\",  sep=\";\", thousands=\".\", decimal=\",\")\n"
      ],
      "execution_count": 2,
      "outputs": [
        {
          "output_type": "error",
          "ename": "FileNotFoundError",
          "evalue": "ignored",
          "traceback": [
            "\u001b[0;31m---------------------------------------------------------------------------\u001b[0m",
            "\u001b[0;31mFileNotFoundError\u001b[0m                         Traceback (most recent call last)",
            "\u001b[0;32m<ipython-input-2-4266bb410f95>\u001b[0m in \u001b[0;36m<module>\u001b[0;34m()\u001b[0m\n\u001b[0;32m----> 1\u001b[0;31m \u001b[0mdados\u001b[0m \u001b[0;34m=\u001b[0m \u001b[0mpd\u001b[0m\u001b[0;34m.\u001b[0m\u001b[0mread_csv\u001b[0m\u001b[0;34m(\u001b[0m\u001b[0;34m\"C:\\\\Users\\\\Hammad\\\\Desktop\\\\BootCamp\\\\projeto_1\\\\1_Projeto.csv\"\u001b[0m\u001b[0;34m,\u001b[0m \u001b[0mencoding\u001b[0m\u001b[0;34m=\u001b[0m\u001b[0;34m\"ISO-8859-1\"\u001b[0m\u001b[0;34m,\u001b[0m  \u001b[0msep\u001b[0m\u001b[0;34m=\u001b[0m\u001b[0;34m\";\"\u001b[0m\u001b[0;34m,\u001b[0m \u001b[0mthousands\u001b[0m\u001b[0;34m=\u001b[0m\u001b[0;34m\".\"\u001b[0m\u001b[0;34m,\u001b[0m \u001b[0mdecimal\u001b[0m\u001b[0;34m=\u001b[0m\u001b[0;34m\",\"\u001b[0m\u001b[0;34m)\u001b[0m\u001b[0;34m\u001b[0m\u001b[0;34m\u001b[0m\u001b[0m\n\u001b[0m",
            "\u001b[0;32m/usr/local/lib/python3.7/dist-packages/pandas/io/parsers.py\u001b[0m in \u001b[0;36mread_csv\u001b[0;34m(filepath_or_buffer, sep, delimiter, header, names, index_col, usecols, squeeze, prefix, mangle_dupe_cols, dtype, engine, converters, true_values, false_values, skipinitialspace, skiprows, skipfooter, nrows, na_values, keep_default_na, na_filter, verbose, skip_blank_lines, parse_dates, infer_datetime_format, keep_date_col, date_parser, dayfirst, cache_dates, iterator, chunksize, compression, thousands, decimal, lineterminator, quotechar, quoting, doublequote, escapechar, comment, encoding, dialect, error_bad_lines, warn_bad_lines, delim_whitespace, low_memory, memory_map, float_precision)\u001b[0m\n\u001b[1;32m    686\u001b[0m     )\n\u001b[1;32m    687\u001b[0m \u001b[0;34m\u001b[0m\u001b[0m\n\u001b[0;32m--> 688\u001b[0;31m     \u001b[0;32mreturn\u001b[0m \u001b[0m_read\u001b[0m\u001b[0;34m(\u001b[0m\u001b[0mfilepath_or_buffer\u001b[0m\u001b[0;34m,\u001b[0m \u001b[0mkwds\u001b[0m\u001b[0;34m)\u001b[0m\u001b[0;34m\u001b[0m\u001b[0;34m\u001b[0m\u001b[0m\n\u001b[0m\u001b[1;32m    689\u001b[0m \u001b[0;34m\u001b[0m\u001b[0m\n\u001b[1;32m    690\u001b[0m \u001b[0;34m\u001b[0m\u001b[0m\n",
            "\u001b[0;32m/usr/local/lib/python3.7/dist-packages/pandas/io/parsers.py\u001b[0m in \u001b[0;36m_read\u001b[0;34m(filepath_or_buffer, kwds)\u001b[0m\n\u001b[1;32m    452\u001b[0m \u001b[0;34m\u001b[0m\u001b[0m\n\u001b[1;32m    453\u001b[0m     \u001b[0;31m# Create the parser.\u001b[0m\u001b[0;34m\u001b[0m\u001b[0;34m\u001b[0m\u001b[0;34m\u001b[0m\u001b[0m\n\u001b[0;32m--> 454\u001b[0;31m     \u001b[0mparser\u001b[0m \u001b[0;34m=\u001b[0m \u001b[0mTextFileReader\u001b[0m\u001b[0;34m(\u001b[0m\u001b[0mfp_or_buf\u001b[0m\u001b[0;34m,\u001b[0m \u001b[0;34m**\u001b[0m\u001b[0mkwds\u001b[0m\u001b[0;34m)\u001b[0m\u001b[0;34m\u001b[0m\u001b[0;34m\u001b[0m\u001b[0m\n\u001b[0m\u001b[1;32m    455\u001b[0m \u001b[0;34m\u001b[0m\u001b[0m\n\u001b[1;32m    456\u001b[0m     \u001b[0;32mif\u001b[0m \u001b[0mchunksize\u001b[0m \u001b[0;32mor\u001b[0m \u001b[0miterator\u001b[0m\u001b[0;34m:\u001b[0m\u001b[0;34m\u001b[0m\u001b[0;34m\u001b[0m\u001b[0m\n",
            "\u001b[0;32m/usr/local/lib/python3.7/dist-packages/pandas/io/parsers.py\u001b[0m in \u001b[0;36m__init__\u001b[0;34m(self, f, engine, **kwds)\u001b[0m\n\u001b[1;32m    946\u001b[0m             \u001b[0mself\u001b[0m\u001b[0;34m.\u001b[0m\u001b[0moptions\u001b[0m\u001b[0;34m[\u001b[0m\u001b[0;34m\"has_index_names\"\u001b[0m\u001b[0;34m]\u001b[0m \u001b[0;34m=\u001b[0m \u001b[0mkwds\u001b[0m\u001b[0;34m[\u001b[0m\u001b[0;34m\"has_index_names\"\u001b[0m\u001b[0;34m]\u001b[0m\u001b[0;34m\u001b[0m\u001b[0;34m\u001b[0m\u001b[0m\n\u001b[1;32m    947\u001b[0m \u001b[0;34m\u001b[0m\u001b[0m\n\u001b[0;32m--> 948\u001b[0;31m         \u001b[0mself\u001b[0m\u001b[0;34m.\u001b[0m\u001b[0m_make_engine\u001b[0m\u001b[0;34m(\u001b[0m\u001b[0mself\u001b[0m\u001b[0;34m.\u001b[0m\u001b[0mengine\u001b[0m\u001b[0;34m)\u001b[0m\u001b[0;34m\u001b[0m\u001b[0;34m\u001b[0m\u001b[0m\n\u001b[0m\u001b[1;32m    949\u001b[0m \u001b[0;34m\u001b[0m\u001b[0m\n\u001b[1;32m    950\u001b[0m     \u001b[0;32mdef\u001b[0m \u001b[0mclose\u001b[0m\u001b[0;34m(\u001b[0m\u001b[0mself\u001b[0m\u001b[0;34m)\u001b[0m\u001b[0;34m:\u001b[0m\u001b[0;34m\u001b[0m\u001b[0;34m\u001b[0m\u001b[0m\n",
            "\u001b[0;32m/usr/local/lib/python3.7/dist-packages/pandas/io/parsers.py\u001b[0m in \u001b[0;36m_make_engine\u001b[0;34m(self, engine)\u001b[0m\n\u001b[1;32m   1178\u001b[0m     \u001b[0;32mdef\u001b[0m \u001b[0m_make_engine\u001b[0m\u001b[0;34m(\u001b[0m\u001b[0mself\u001b[0m\u001b[0;34m,\u001b[0m \u001b[0mengine\u001b[0m\u001b[0;34m=\u001b[0m\u001b[0;34m\"c\"\u001b[0m\u001b[0;34m)\u001b[0m\u001b[0;34m:\u001b[0m\u001b[0;34m\u001b[0m\u001b[0;34m\u001b[0m\u001b[0m\n\u001b[1;32m   1179\u001b[0m         \u001b[0;32mif\u001b[0m \u001b[0mengine\u001b[0m \u001b[0;34m==\u001b[0m \u001b[0;34m\"c\"\u001b[0m\u001b[0;34m:\u001b[0m\u001b[0;34m\u001b[0m\u001b[0;34m\u001b[0m\u001b[0m\n\u001b[0;32m-> 1180\u001b[0;31m             \u001b[0mself\u001b[0m\u001b[0;34m.\u001b[0m\u001b[0m_engine\u001b[0m \u001b[0;34m=\u001b[0m \u001b[0mCParserWrapper\u001b[0m\u001b[0;34m(\u001b[0m\u001b[0mself\u001b[0m\u001b[0;34m.\u001b[0m\u001b[0mf\u001b[0m\u001b[0;34m,\u001b[0m \u001b[0;34m**\u001b[0m\u001b[0mself\u001b[0m\u001b[0;34m.\u001b[0m\u001b[0moptions\u001b[0m\u001b[0;34m)\u001b[0m\u001b[0;34m\u001b[0m\u001b[0;34m\u001b[0m\u001b[0m\n\u001b[0m\u001b[1;32m   1181\u001b[0m         \u001b[0;32melse\u001b[0m\u001b[0;34m:\u001b[0m\u001b[0;34m\u001b[0m\u001b[0;34m\u001b[0m\u001b[0m\n\u001b[1;32m   1182\u001b[0m             \u001b[0;32mif\u001b[0m \u001b[0mengine\u001b[0m \u001b[0;34m==\u001b[0m \u001b[0;34m\"python\"\u001b[0m\u001b[0;34m:\u001b[0m\u001b[0;34m\u001b[0m\u001b[0;34m\u001b[0m\u001b[0m\n",
            "\u001b[0;32m/usr/local/lib/python3.7/dist-packages/pandas/io/parsers.py\u001b[0m in \u001b[0;36m__init__\u001b[0;34m(self, src, **kwds)\u001b[0m\n\u001b[1;32m   1991\u001b[0m         \u001b[0;32mif\u001b[0m \u001b[0mkwds\u001b[0m\u001b[0;34m.\u001b[0m\u001b[0mget\u001b[0m\u001b[0;34m(\u001b[0m\u001b[0;34m\"compression\"\u001b[0m\u001b[0;34m)\u001b[0m \u001b[0;32mis\u001b[0m \u001b[0;32mNone\u001b[0m \u001b[0;32mand\u001b[0m \u001b[0mencoding\u001b[0m\u001b[0;34m:\u001b[0m\u001b[0;34m\u001b[0m\u001b[0;34m\u001b[0m\u001b[0m\n\u001b[1;32m   1992\u001b[0m             \u001b[0;32mif\u001b[0m \u001b[0misinstance\u001b[0m\u001b[0;34m(\u001b[0m\u001b[0msrc\u001b[0m\u001b[0;34m,\u001b[0m \u001b[0mstr\u001b[0m\u001b[0;34m)\u001b[0m\u001b[0;34m:\u001b[0m\u001b[0;34m\u001b[0m\u001b[0;34m\u001b[0m\u001b[0m\n\u001b[0;32m-> 1993\u001b[0;31m                 \u001b[0msrc\u001b[0m \u001b[0;34m=\u001b[0m \u001b[0mopen\u001b[0m\u001b[0;34m(\u001b[0m\u001b[0msrc\u001b[0m\u001b[0;34m,\u001b[0m \u001b[0;34m\"rb\"\u001b[0m\u001b[0;34m)\u001b[0m\u001b[0;34m\u001b[0m\u001b[0;34m\u001b[0m\u001b[0m\n\u001b[0m\u001b[1;32m   1994\u001b[0m                 \u001b[0mself\u001b[0m\u001b[0;34m.\u001b[0m\u001b[0mhandles\u001b[0m\u001b[0;34m.\u001b[0m\u001b[0mappend\u001b[0m\u001b[0;34m(\u001b[0m\u001b[0msrc\u001b[0m\u001b[0;34m)\u001b[0m\u001b[0;34m\u001b[0m\u001b[0;34m\u001b[0m\u001b[0m\n\u001b[1;32m   1995\u001b[0m \u001b[0;34m\u001b[0m\u001b[0m\n",
            "\u001b[0;31mFileNotFoundError\u001b[0m: [Errno 2] No such file or directory: 'C:\\\\Users\\\\Hammad\\\\Desktop\\\\BootCamp\\\\projeto_1\\\\1_Projeto.csv'"
          ]
        }
      ]
    },
    {
      "cell_type": "markdown",
      "metadata": {
        "id": "fWcjzGbxLuFQ"
      },
      "source": [
        "### 2 - Análise inicial\n"
      ]
    },
    {
      "cell_type": "markdown",
      "metadata": {
        "id": "LrhJsJtOLuFQ"
      },
      "source": [
        "#### 2.1 Analises exploratorias"
      ]
    },
    {
      "cell_type": "code",
      "metadata": {
        "id": "_e1LHJCjLuFR"
      },
      "source": [
        "dados"
      ],
      "execution_count": null,
      "outputs": []
    },
    {
      "cell_type": "code",
      "metadata": {
        "id": "iPGc-ulULuFR"
      },
      "source": [
        "plt.style.use('ggplot')\n",
        "dados.plot()\n",
        "plt.legend (bbox_to_anchor = (1.08,1.05), loc = \"best\")\n",
        "plt.show()"
      ],
      "execution_count": null,
      "outputs": []
    },
    {
      "cell_type": "markdown",
      "metadata": {
        "id": "1Svu7pg4LuFS"
      },
      "source": [
        "#### 2.2 Tratamentos"
      ]
    },
    {
      "cell_type": "markdown",
      "metadata": {
        "id": "gDP4YPqzLuFS"
      },
      "source": [
        "Apenas por preferencia, os totais, tanto por ano quanto por lugar,  serão colocados nas extemidades externas da tabela."
      ]
    },
    {
      "cell_type": "code",
      "metadata": {
        "id": "vwVgSFF5LuFS"
      },
      "source": [
        "dados_total = dados[:1]\n",
        "dados = dados[1:]\n",
        "full_dados =  pd.concat([dados, dados_total])\n",
        "full_dados"
      ],
      "execution_count": null,
      "outputs": []
    },
    {
      "cell_type": "code",
      "metadata": {
        "id": "TDxYkaUDLuFT"
      },
      "source": [
        "full_dados = full_dados.set_index(\"UF Notificação\")\n",
        "full_dados"
      ],
      "execution_count": null,
      "outputs": []
    },
    {
      "cell_type": "code",
      "metadata": {
        "id": "yj4YQeIYLuFT"
      },
      "source": [
        "full_dados.plot()\n",
        "plt.legend (bbox_to_anchor = (1.08,1.05), loc = \"best\")\n",
        "plt.show()"
      ],
      "execution_count": null,
      "outputs": []
    },
    {
      "cell_type": "markdown",
      "metadata": {
        "id": "Qm_9oyEgLuFT"
      },
      "source": [
        "##### Variavel total, nesse caso o total por ano, interferindo no grafico dos casos de AIDs por lugar. \n",
        "##### Sera necessario sua remoção\n"
      ]
    },
    {
      "cell_type": "code",
      "metadata": {
        "id": "3m35AHUxLuFU"
      },
      "source": [
        "#Remocao da linha total por ano, depois transpondo ela para remover a ultima linha que agoraa é a total por lugar\n",
        "dados_ = full_dados[:-1]\n",
        "dados_ = dados_.T[:-1]\n",
        "dados_"
      ],
      "execution_count": null,
      "outputs": []
    },
    {
      "cell_type": "markdown",
      "metadata": {
        "id": "AwkmcRvPLuFU"
      },
      "source": [
        "### 3 - Evoluções"
      ]
    },
    {
      "cell_type": "markdown",
      "metadata": {
        "id": "YrVzfm7LLuFV"
      },
      "source": [
        "#### 3.1 - Evolução geral"
      ]
    },
    {
      "cell_type": "code",
      "metadata": {
        "id": "vU1pZlLGLuFV"
      },
      "source": [
        "plt.style.use('ggplot')\n",
        "dados_.plot(figsize =(9,6))\n",
        "plt.title('Evolução das notificações', fontweight = 'bold', fontstyle = 'italic', fontfamily = 'serif')\n",
        "plt.xlabel('Anos')\n",
        "plt.ylabel('Notificações', fontsize =12)\n",
        "plt.legend (bbox_to_anchor = (1.08,1.05), loc = \"upper left\")\n",
        "plt.show()\n",
        "\n",
        "\n",
        "\n"
      ],
      "execution_count": null,
      "outputs": []
    },
    {
      "cell_type": "markdown",
      "metadata": {
        "id": "peF9EjLlLuFV"
      },
      "source": [
        "#### 3.2 - Evolução por região"
      ]
    },
    {
      "cell_type": "markdown",
      "metadata": {
        "id": "3uuET4l9LuFV"
      },
      "source": [
        "Criando data frames especificos para as regioes:\n"
      ]
    },
    {
      "cell_type": "code",
      "metadata": {
        "id": "p6WAknelLuFW"
      },
      "source": [
        "dados_norte = dados_[[\"Acre\",\"Amapá\",\"Amazonas\", \"Pará\", \"Rondônia\", \"Roraima\", \"Tocantins\"]]\n",
        "dados_nordeste = dados_[[\"Alagoas\",\"Bahia\",\"Ceará\",\"Maranhão\",\"Paraíba\",\"Pernambuco\",\"Piauí\",\"Rio Grande do Norte\",\"Sergipe\"]]\n",
        "dados_centro_oeste = dados_[[\"Goiás\",\"Mato Grosso\", \"Mato Grosso do Sul\", \"Distrito Federal\"]]\n",
        "dados_sul= dados_[[\"Paraná\", \"Santa Catarina\", \"Rio Grande do Sul\"]]\n",
        "dados_sudeste = dados_[[\"Espírito Santo\", \"Minas Gerais\", \"Rio de Janeiro\", \"São Paulo\"]]\n",
        "estado_populoso_regiao = dados_[[\"Pará\",\"Bahia\",\"Goiás\",\"Rio Grande do Sul\",\"São Paulo\"]]\n"
      ],
      "execution_count": null,
      "outputs": []
    },
    {
      "cell_type": "code",
      "metadata": {
        "id": "vWTcv84BLuFW"
      },
      "source": [
        "plt.style.use('ggplot')\n",
        "dados_norte.plot(figsize=(10,6))\n",
        "plt.title('Região Norte',fontsize= 16, fontweight = 'bold', fontstyle = 'italic', fontfamily = 'serif')\n",
        "plt.xlabel('Anos')\n",
        "plt.ylabel('Notificações', fontsize =12)\n",
        "\n",
        "plt.show()\n"
      ],
      "execution_count": null,
      "outputs": []
    },
    {
      "cell_type": "code",
      "metadata": {
        "id": "CAoGKvm5LuFW"
      },
      "source": [
        "dados_nordeste.plot(figsize=(10,6))\n",
        "plt.title('Região Nordeste',fontsize= 16, fontweight = 'bold', fontstyle = 'italic', fontfamily = 'serif')\n",
        "plt.xlabel('Anos')\n",
        "plt.ylabel('Notificações', fontsize =12)\n",
        "\n",
        "plt.show()"
      ],
      "execution_count": null,
      "outputs": []
    },
    {
      "cell_type": "code",
      "metadata": {
        "id": "IaXcqAXmLuFX"
      },
      "source": [
        "dados_centro_oeste.plot(figsize=(10,6))\n",
        "plt.title('Região Centro-Oeste',fontsize= 16, fontweight = 'bold', fontstyle = 'italic', fontfamily = 'serif')\n",
        "plt.xlabel('Anos')\n",
        "plt.ylabel('Notificações', fontsize =12)\n",
        "plt.show()"
      ],
      "execution_count": null,
      "outputs": []
    },
    {
      "cell_type": "code",
      "metadata": {
        "id": "XmVgJmjjLuFX"
      },
      "source": [
        "dados_sudeste.plot(figsize=(10,6))\n",
        "plt.title('Região Sudeste',fontsize= 16, fontweight = 'bold', fontstyle = 'italic', fontfamily = 'serif')\n",
        "plt.xlabel('Anos')\n",
        "plt.ylabel('Notificações', fontsize =12)\n",
        "\n",
        "plt.show()"
      ],
      "execution_count": null,
      "outputs": []
    },
    {
      "cell_type": "code",
      "metadata": {
        "id": "jwVk_FFyLuFX"
      },
      "source": [
        "dados_sul.plot(figsize=(10,6))\n",
        "plt.title('Região Sul',fontsize= 16, fontweight = 'bold', fontstyle = 'italic', fontfamily = 'serif')\n",
        "plt.xlabel('Anos')\n",
        "plt.ylabel('Notificações', fontsize =12)\n",
        "plt.show()"
      ],
      "execution_count": null,
      "outputs": []
    },
    {
      "cell_type": "markdown",
      "metadata": {
        "id": "qdCSg_tLLuFY"
      },
      "source": [
        "#### 3.3 - Comparativo entre a evolução do estados mais populoso de cada região"
      ]
    },
    {
      "cell_type": "code",
      "metadata": {
        "id": "l44XTp0oLuFY"
      },
      "source": [
        "estado_populoso_regiao.plot(figsize=(10,6))\n",
        "plt.title('Maior estado por região',fontsize= 16, fontweight = 'bold', fontstyle = 'italic', fontfamily = 'serif')\n",
        "plt.xlabel('Anos')\n",
        "plt.ylabel('Notificações', fontsize =12)\n",
        "plt.show()"
      ],
      "execution_count": null,
      "outputs": []
    },
    {
      "cell_type": "markdown",
      "metadata": {
        "id": "kasmLKr2LuFY"
      },
      "source": [
        "#### 3.4 - Evolução a cada 10 anos"
      ]
    },
    {
      "cell_type": "code",
      "metadata": {
        "id": "GAWbB4wSLuFY"
      },
      "source": [
        "anos80 = full_dados.iloc[-1:,0:9].sum().sum()\n",
        "anos90 = full_dados.iloc[-1:,9:19].sum().sum()\n",
        "anos00 = full_dados.iloc[-1:,19:29].sum().sum()\n",
        "anos10 = full_dados.iloc[-1:,29:39].sum().sum()\n",
        "\n",
        "anos =[anos80,anos90,anos00,anos10]\n",
        "ano = ['80s','90s','00s','10s']\n",
        "x = np.arange(len(ano))\n",
        "\n",
        "cor1 = ['tomato','maroon', 'darkred','red']\n",
        "width = 0.35      \n",
        "\n",
        "\n",
        "fig, ax1 = plt.subplots(figsize =(10,6))\n",
        "grafico_anos = ax1.bar(x, anos, color=cor1)\n",
        "\n",
        "ax1.set_ylabel('Quantidade de notificações')\n",
        "ax1.set_title('Evolução a cada 10 anos',fontsize= 16, fontweight = 'bold', fontstyle = 'italic', fontfamily = 'serif')\n",
        "ax1.set_ylim([0,350000])\n",
        "ax1.set_xticks(x)\n",
        "ax1.set_xticklabels(ano)\n",
        "plt.xlabel('Anos')\n",
        "plt.show()\n"
      ],
      "execution_count": null,
      "outputs": []
    },
    {
      "cell_type": "code",
      "metadata": {
        "id": "9HTMSknELuFZ"
      },
      "source": [
        "total_norte = dados_norte.sum().sum()\n",
        "total_nordeste = dados_nordeste.sum().sum()\n",
        "total_centro_oeste = dados_centro_oeste.sum().sum()\n",
        "total_sudeste = dados_sudeste.sum().sum()\n",
        "total_sul = dados_sul.sum().sum()\n",
        "regiao = ['Norte', 'Nordeste', 'Centro-oeste', 'Suldeste', 'Sul']\n",
        "regioes = [total_norte,total_nordeste,total_centro_oeste,total_sudeste,total_sul]\n",
        "cores = ['green', 'orange', 'yellow', 'red', 'dodgerblue']\n",
        "x = np.arange(len(regiao))\n",
        "\n",
        "width = 0.35      \n",
        "fig, ax = plt.subplots(figsize =(10,6))\n",
        "\n",
        "grafico_total = ax.bar(x, regioes, color=cores)\n",
        "\n",
        "ax.set_ylabel('Quantidade de notificações', fontweight = 'bold')\n",
        "ax.set_title('Comparativo por regiões Brasileiras',fontsize= 16, fontweight = 'bold', fontstyle = 'italic', fontfamily = 'serif')\n",
        "ax.set_ylim([0,500000])\n",
        "ax.set_xticks(x)\n",
        "ax.set_xticklabels(regiao)\n",
        "ax.set_xlabel('Regiões', fontweight = 'bold')\n",
        "\n",
        "\n",
        "plt.show()"
      ],
      "execution_count": null,
      "outputs": []
    },
    {
      "cell_type": "code",
      "metadata": {
        "id": "JgG__GdZLuFZ"
      },
      "source": [
        "# Conseguindo altura para os graficos de barras\n",
        "# Altura do grafico Norte\n",
        "ha = dados_norte.sum()[:1].sum()\n",
        "hap = dados_norte.sum()[1:2].sum()\n",
        "haz = dados_norte.sum()[2:3].sum()\n",
        "hpa = dados_norte.sum()[3:4].sum()\n",
        "hro = dados_norte.sum()[4:5].sum()\n",
        "hrm = dados_norte.sum()[5:6].sum()\n",
        "ht = dados_norte.sum()[6:7].sum()\n",
        "# Altura do grafico Nordeste\n",
        "hal = dados_nordeste.sum()[:1].sum()\n",
        "hba = dados_nordeste.sum()[1:2].sum()\n",
        "hce = dados_nordeste.sum()[2:3].sum()\n",
        "hma = dados_nordeste.sum()[3:4].sum()\n",
        "hpb = dados_nordeste.sum()[4:5].sum()\n",
        "hpe = dados_nordeste.sum()[5:6].sum()\n",
        "hpi = dados_nordeste.sum()[6:7].sum()\n",
        "hrn = dados_nordeste.sum()[7:8].sum()\n",
        "hse = dados_nordeste.sum()[8:9].sum()\n",
        "# Altura do grafico centro_oeste\n",
        "hgo = dados_centro_oeste.sum()[:1].sum()\n",
        "hmt = dados_centro_oeste.sum()[1:2].sum()\n",
        "hms = dados_centro_oeste.sum()[2:3].sum()\n",
        "hdf = dados_centro_oeste.sum()[3:4].sum()\n",
        "# Altura do grafico suldeste\n",
        "hes = dados_sudeste.sum()[:1].sum()\n",
        "hmg = dados_sudeste.sum()[1:2].sum()\n",
        "hrj = dados_sudeste.sum()[2:3].sum()\n",
        "hsp = dados_sudeste.sum()[3:4].sum()\n",
        "\n",
        "# Altura do grafico Sul\n",
        "hp = dados_sul.sum()[:1].sum()\n",
        "hsc = dados_sul.sum()[1:2].sum()\n",
        "hrs = dados_sul.sum()[2:3].sum()\n",
        "\n"
      ],
      "execution_count": null,
      "outputs": []
    },
    {
      "cell_type": "code",
      "metadata": {
        "id": "TEXy71ckLuFa"
      },
      "source": [
        "# Coloração para os graficos\n",
        "cores = ['green', 'orange', 'yellow', 'red', 'dodgerblue']\n",
        "coresnorte=['olivedrab','darkolivegreen','darkseagreen','limegreen','forestgreen','green','darkgreen']\n",
        "coresnordeste = ['saddlebrown','sandybrown','peachpuff','peru', 'bisque','darkorange','orange','goldenrod', 'darkgoldenrod']\n",
        "corescentro =[  'lemonchiffon','khaki', 'darkkhaki','yellow']\n",
        "coressuldeste = ['tomato','red', 'darkred','maroon']\n",
        "coressul = ['deepskyblue', 'dodgerblue', 'royalblue']\n",
        "width = 0.35\n",
        "# Norte\n",
        "regiaonorte = ['Acre','Amapá','Amazonas', 'Pará', 'Rondônia', 'Roraima', 'Tocantins']\n",
        "hregiaonorte = [ha,hap, haz, hpa, hro, hrm, ht]\n",
        "# Nordeste\n",
        "regiaonordeste = [\"Alagoas\",\"Bahia\",\"Ceará\",\"MA\",\"Paraíba\",\"PE\",\"Piauí\",\"RN\",\"Sergipe\"]\n",
        "hregiaonordeste = [hal,hba, hce, hma, hpb, hpe, hpi, hrn, hse]\n",
        "# Centro \n",
        "regiaocentro =[\"Goiás\",\"Mato Grosso\", \"Mato Grosso do Sul\", \"Distrito Federal\"]\n",
        "hregiaocentro = [hgo, hmt, hms, hdf]\n",
        "# Suldeste\n",
        "regiaosuldeste = [\"Espírito Santo\", \"Minas Gerais\", \"Rio de Janeiro\", \"São Paulo\"]\n",
        "hregiaosuldeste = [hes,hmg,hrj,hsp]\n",
        "# Sul\n",
        "regiaosul = ['Paraná','Santa Catarina','Rio Grande do Sul']\n",
        "hregiaosul = [hp, hsc, hrs]\n",
        "# Maiores de regiao\n",
        "regiaomaior = ['Norte', 'Nordeste', 'Centro-oeste', 'Suldeste', 'Sul']\n",
        "hregiaomaior = [total_norte,total_nordeste,total_centro_oeste,total_sudeste,total_sul]\n",
        "\n",
        "xnorte = np.arange(len(regiaonorte))\n",
        "xnordeste = np.arange(len(regiaonordeste))\n",
        "xcentro = np.arange(len(regiaocentro))\n",
        "xsuldeste = np.arange(len(regiaosuldeste))\n",
        "xsul = np.arange(len(regiaosul))\n",
        "\n",
        "\n",
        "      \n",
        "fig, [[ax1, ax2,ax3], [ax4, ax5, ax6]] = plt.subplots(2,3,figsize =(20,10))\n",
        "plt.title('Inter-regioes', fontsize= 16, fontweight = 'bold', fontstyle = 'italic', fontfamily = 'serif')\n",
        "plt.tight_layout()\n",
        "ax1.bar(xnorte, hregiaonorte, color=coresnorte)\n",
        "ax2.bar(xnordeste, hregiaonordeste, color=coresnordeste)\n",
        "ax3.bar(xcentro, hregiaocentro, color=corescentro)\n",
        "ax4.bar(xsuldeste, hregiaosuldeste, color = coressuldeste)\n",
        "ax5.bar(xsul, hregiaosul, color=coressul)\n",
        "ax6.pie(hregiaomaior, labels = regiaomaior, colors=cores, autopct='%1.1f%%')\n",
        "\n",
        "ax1.set_ylim([0,50000])\n",
        "ax1.set_ylabel('Notificações',fontweight = 'bold')\n",
        "ax1.set_xticks(xnorte)\n",
        "ax1.set_xticklabels(regiaonorte)\n",
        "\n",
        "ax2.set_ylim([0,50000])\n",
        "ax2.set_xticks(xnordeste)\n",
        "ax2.set_xticklabels(regiaonordeste)\n",
        "\n",
        "ax3.set_ylim([0,50000])\n",
        "ax3.set_xticks(xcentro)\n",
        "ax3.set_xticklabels(regiaocentro)\n",
        "\n",
        "ax4.set_ylim([0,250000])\n",
        "ax4.set_ylabel('Notificações',fontweight = 'bold')\n",
        "\n",
        "ax4.set_xticks(xsuldeste)\n",
        "ax4.set_xticklabels(regiaosuldeste)\n",
        "\n",
        "ax5.set_ylim([0,250000])\n",
        "ax5.set_xticks(xsul)\n",
        "ax5.set_xticklabels(regiaosul)\n",
        "\n",
        "\n",
        "fig.suptitle(\"Intraregiões\",y=1.01, fontsize= 16, fontweight = 'bold', fontstyle = 'italic', fontfamily = 'serif')\n",
        "plt.show()"
      ],
      "execution_count": null,
      "outputs": []
    },
    {
      "cell_type": "markdown",
      "metadata": {
        "id": "3egYflOiLuFa"
      },
      "source": [
        "### 4 - Conclussões "
      ]
    },
    {
      "cell_type": "markdown",
      "metadata": {
        "id": "b-DIhx7ALuFa"
      },
      "source": [
        "O objetivo do projeto foi concluido com sucesso, visto que foi possivel analisar e visualizar os dados, com os conhecimneto adquiridos no modulo 1 do bootcamp."
      ]
    },
    {
      "cell_type": "markdown",
      "metadata": {
        "id": "TNzCOctpLuFb"
      },
      "source": [
        "### 5 - Trabalhos futuros "
      ]
    },
    {
      "cell_type": "markdown",
      "metadata": {
        "id": "5IlTFpEZLuFb"
      },
      "source": [
        "Como trabalho futuro, proponho a automatização de certas coisa. Já que sendo esse meu primeiro projeto grande, eu fiz coisas de maneira muito manual e as quais eu tenho certeza que são possiveis de automatizar, utilizando  laços e funções."
      ]
    }
  ]
}